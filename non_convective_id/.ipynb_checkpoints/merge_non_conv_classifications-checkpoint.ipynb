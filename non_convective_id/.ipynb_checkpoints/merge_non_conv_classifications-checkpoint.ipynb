{
 "cells": [
  {
   "cell_type": "markdown",
   "id": "78510e64-72ef-434a-a20a-5c2a6588904c",
   "metadata": {},
   "source": [
    "### script for merging convective classifications\n",
    "### from different years into one file\n",
    "### date created: 13 Oct. 2021\n",
    "### author: doughert@ucar.edu"
   ]
  },
  {
   "cell_type": "code",
   "execution_count": 1,
   "id": "bada710d-e2f5-40c9-8615-65a9bebd2418",
   "metadata": {},
   "outputs": [],
   "source": [
    "import math \n",
    "import numpy as np\n",
    "import pandas as pd\n",
    "import matplotlib as plt\n",
    "import cartopy.crs as ccrs\n",
    "import cartopy.feature as cfeature\n",
    "import netCDF4 as nc\n",
    "from netCDF4 import Dataset, num2date\n",
    "from datetime import datetime, date, timedelta\n",
    "import glob\n",
    "import xarray as xr\n",
    "import geopandas as gp\n",
    "#from wrf import getvar, ALL_TIMES"
   ]
  },
  {
   "cell_type": "markdown",
   "id": "4838b414-a25e-4263-81d1-89376d0aaa45",
   "metadata": {},
   "source": [
    "### import isolated convection"
   ]
  },
  {
   "cell_type": "code",
   "execution_count": 2,
   "id": "e3caa1ae-2808-4da3-af2d-46be50939094",
   "metadata": {},
   "outputs": [],
   "source": [
    "iso_conv_95 = pd.read_csv('/glade/scratch/doughert/grid_refl_out/non_convect_daily_bukovsky_regions_1995_1996.csv', header=0)\n",
    "iso_conv_97 = pd.read_csv('/glade/scratch/doughert/grid_refl_out/non_convect_daily_bukovsky_regions_1997_1999.csv', header=0)\n",
    "iso_conv_00 = pd.read_csv('/glade/scratch/doughert/grid_refl_out/non_convect_daily_bukovsky_regions_2000_2002.csv', header=0)\n",
    "iso_conv_03 = pd.read_csv('/glade/scratch/doughert/grid_refl_out/non_convect_daily_bukovsky_regions_2003_2005.csv', header=0)\n",
    "iso_conv_06 = pd.read_csv('/glade/scratch/doughert/grid_refl_out/non_convect_daily_bukovsky_regions_2006_2008.csv', header=0)\n",
    "iso_conv_09 = pd.read_csv('/glade/scratch/doughert/grid_refl_out/non_convect_daily_bukovsky_regions_2009_2011.csv', header=0)\n",
    "iso_conv_12 = pd.read_csv('/glade/scratch/doughert/grid_refl_out/non_convect_daily_bukovsky_regions_2012_2014.csv', header=0)\n",
    "iso_conv_15 = pd.read_csv('/glade/scratch/doughert/grid_refl_out/non_convect_daily_bukovsky_regions_2015_2017.csv', header=0)"
   ]
  },
  {
   "cell_type": "code",
   "execution_count": 3,
   "id": "242996bf-2fe3-48cd-af58-04c7cced9bfe",
   "metadata": {},
   "outputs": [],
   "source": [
    "iso_conv_all = pd.concat([iso_conv_95, iso_conv_97, iso_conv_00, iso_conv_03, iso_conv_06, iso_conv_09, \n",
    "                          iso_conv_12, iso_conv_15])\n",
    "iso_conv_all = iso_conv_all.drop(['Unnamed: 0'], axis=1)\n",
    "iso_conv_all = iso_conv_all.rename({'time_x':'date'}, axis=1)\n",
    "iso_conv_all['date'] = pd.to_datetime(iso_conv_all['date'])"
   ]
  },
  {
   "cell_type": "code",
   "execution_count": 4,
   "id": "4924d178-acff-4980-9135-2cae6d954056",
   "metadata": {},
   "outputs": [
    {
     "name": "stdout",
     "output_type": "stream",
     "text": [
      "      region       date  occurrence  object_idx   size (km)    avg_dbz  \\\n",
      "0     Desert 1995-01-01         1.0  204.625000  124.250000  23.401855   \n",
      "1     Desert 1995-01-02         1.0  251.000000  143.500000  23.188750   \n",
      "2     Desert 1995-01-03         1.0  442.625000  177.125000  25.532783   \n",
      "3     Desert 1995-01-04         1.0  594.133333  391.433333  22.589044   \n",
      "4     Desert 1995-01-05         1.0  169.740741  966.111111  23.714456   \n",
      "...      ...        ...         ...         ...         ...        ...   \n",
      "7667   South 2017-12-27         1.0  507.930481  699.497326  23.016267   \n",
      "7668   South 2017-12-28         1.0  224.215385  257.446154  23.572514   \n",
      "7669   South 2017-12-29         1.0  291.269231  288.115385  22.676336   \n",
      "7670   South 2017-12-30         1.0  198.200000   73.000000  23.019903   \n",
      "7671   South 2017-12-31         1.0  132.864865  306.189189  23.387731   \n",
      "\n",
      "        max_dbz  \n",
      "0     27.979376  \n",
      "1     23.188750  \n",
      "2     33.635063  \n",
      "3     30.603889  \n",
      "4     33.888765  \n",
      "...         ...  \n",
      "7667  31.715390  \n",
      "7668  33.239497  \n",
      "7669  30.569924  \n",
      "7670  32.484184  \n",
      "7671  32.870909  \n",
      "\n",
      "[58736 rows x 7 columns]\n"
     ]
    }
   ],
   "source": [
    "print(iso_conv_all)"
   ]
  },
  {
   "cell_type": "markdown",
   "id": "e1f2fdcb-2db6-4ef9-b733-c16df2dd3be0",
   "metadata": {},
   "source": [
    "### export df "
   ]
  },
  {
   "cell_type": "code",
   "execution_count": 16,
   "id": "30a8a528-4208-452f-a53b-2678e6e60bab",
   "metadata": {},
   "outputs": [],
   "source": [
    "iso_conv_all.to_csv('non_convective_daily_counts_bukovsky_regions.csv')"
   ]
  },
  {
   "cell_type": "markdown",
   "id": "e450d1c1-3239-456e-82bb-4ca07cd67f43",
   "metadata": {},
   "source": [
    "### separate df by region"
   ]
  },
  {
   "cell_type": "code",
   "execution_count": 5,
   "id": "49f9a36b-667a-4736-b113-23f99a99879d",
   "metadata": {},
   "outputs": [],
   "source": [
    "iso_conv_pacnw = iso_conv_all[iso_conv_all['region']=='Pac_NW']\n",
    "iso_conv_pacsw = iso_conv_all[iso_conv_all['region']=='Pac_SW']\n",
    "iso_conv_mnt = iso_conv_all[iso_conv_all['region']=='MountainW']\n",
    "iso_conv_desert = iso_conv_all[iso_conv_all['region']=='Desert']\n",
    "iso_conv_gp = iso_conv_all[iso_conv_all['region']=='GP']\n",
    "iso_conv_prr = iso_conv_all[iso_conv_all['region']=='Praire']\n",
    "iso_conv_south = iso_conv_all[iso_conv_all['region']=='South']\n",
    "iso_conv_lakes = iso_conv_all[iso_conv_all['region']=='Lakes']\n",
    "iso_conv_east = iso_conv_all[iso_conv_all['region']=='East']"
   ]
  },
  {
   "cell_type": "code",
   "execution_count": 6,
   "id": "6a18298f-5bce-451c-b3e3-4ef0264fde7a",
   "metadata": {},
   "outputs": [
    {
     "name": "stdout",
     "output_type": "stream",
     "text": [
      "<class 'pandas._libs.tslibs.timestamps.Timestamp'>\n"
     ]
    }
   ],
   "source": [
    "print(type(iso_conv_mnt['date'].iloc[0]))"
   ]
  },
  {
   "cell_type": "code",
   "execution_count": 7,
   "id": "04270fa6-5045-4f53-b22a-f18c73bc989c",
   "metadata": {},
   "outputs": [],
   "source": [
    "dates_since_1995 = pd.DataFrame({'date':pd.date_range(start='1995-01-01', end='2017-12-31', freq='D')})"
   ]
  },
  {
   "cell_type": "code",
   "execution_count": 8,
   "id": "8efe35d6-6b94-4086-bb54-8a64260b05ba",
   "metadata": {},
   "outputs": [],
   "source": [
    "iso_conv_pacnw_time = iso_conv_pacnw.merge(dates_since_1995, how='right', on='date')\n",
    "iso_conv_pacsw_time = iso_conv_pacsw.merge(dates_since_1995, how='right', on='date')\n",
    "iso_conv_mnt_time = iso_conv_mnt.merge(dates_since_1995, how='right', on='date')\n",
    "iso_conv_desert_time = iso_conv_desert.merge(dates_since_1995, how='right', on='date')\n",
    "iso_conv_gp_time = iso_conv_gp.merge(dates_since_1995, how='right', on='date')\n",
    "iso_conv_prr_time = iso_conv_prr.merge(dates_since_1995, how='right', on='date')\n",
    "iso_conv_south_time = iso_conv_south.merge(dates_since_1995, how='right', on='date')\n",
    "iso_conv_lakes_time = iso_conv_lakes.merge(dates_since_1995, how='right', on='date')\n",
    "iso_conv_east_time = iso_conv_east.merge(dates_since_1995, how='right', on='date')"
   ]
  },
  {
   "cell_type": "markdown",
   "id": "82d849ea-9945-448e-af65-967effaad27f",
   "metadata": {},
   "source": [
    "### repalces Nans with 0 occurrence"
   ]
  },
  {
   "cell_type": "code",
   "execution_count": 9,
   "id": "4461df7b-da4a-4861-b11c-9a736fac7eee",
   "metadata": {},
   "outputs": [],
   "source": [
    "iso_conv_pacnw_time = iso_conv_pacnw_time.fillna({\"occurrence\":0})\n",
    "iso_conv_pacsw_time = iso_conv_pacsw_time.fillna({\"occurrence\":0})\n",
    "iso_conv_mnt_time = iso_conv_mnt_time.fillna({\"occurrence\":0})\n",
    "iso_conv_desert_time = iso_conv_desert_time.fillna({\"occurrence\":0})\n",
    "iso_conv_gp_time = iso_conv_gp_time.fillna({\"occurrence\":0})\n",
    "iso_conv_prr_time = iso_conv_prr_time.fillna({\"occurrence\":0})\n",
    "iso_conv_south_time = iso_conv_south_time.fillna({\"occurrence\":0})\n",
    "iso_conv_lakes_time = iso_conv_lakes_time.fillna({\"occurrence\":0})\n",
    "iso_conv_east_time = iso_conv_east_time.fillna({\"occurrence\":0})"
   ]
  },
  {
   "cell_type": "markdown",
   "id": "92145d7a-bac2-49c0-bf25-140a09fe4f3c",
   "metadata": {},
   "source": [
    "#### drop duplicates"
   ]
  },
  {
   "cell_type": "code",
   "execution_count": 10,
   "id": "162016e3-6731-457c-84ba-1e63c35717fe",
   "metadata": {},
   "outputs": [],
   "source": [
    "iso_conv_mnt_time = iso_conv_mnt_time.drop_duplicates(subset=['date'],keep='first')\n",
    "iso_conv_desert_time = iso_conv_desert_time.drop_duplicates(subset=['date'],keep='first')\n",
    "iso_conv_gp_time = iso_conv_gp_time.drop_duplicates(subset=['date'],keep='first')\n",
    "iso_conv_prr_time = iso_conv_prr_time.drop_duplicates(subset=['date'],keep='first')\n",
    "iso_conv_south_time = iso_conv_south_time.drop_duplicates(subset=['date'],keep='first')\n",
    "iso_conv_lakes_time = iso_conv_lakes_time.drop_duplicates(subset=['date'],keep='first')\n",
    "iso_conv_east_time = iso_conv_east_time.drop_duplicates(subset=['date'],keep='first')"
   ]
  },
  {
   "cell_type": "code",
   "execution_count": 11,
   "id": "bb54d49f-3464-4291-a650-9be4a16d6a43",
   "metadata": {},
   "outputs": [
    {
     "name": "stdout",
     "output_type": "stream",
     "text": [
      "8401\n"
     ]
    }
   ],
   "source": [
    "print(len(iso_conv_east_time))"
   ]
  },
  {
   "cell_type": "code",
   "execution_count": 12,
   "id": "d1aad621-eaf4-46e0-822d-92c0170efce8",
   "metadata": {},
   "outputs": [],
   "source": [
    "iso_conv_len_mnt = np.where(iso_conv_mnt_time['occurrence']==1.0)[0]\n",
    "iso_conv_len_desert = np.where(iso_conv_desert_time['occurrence']==1.0)[0]\n",
    "iso_conv_len_gp = np.where(iso_conv_gp_time['occurrence']==1.0)[0]\n",
    "iso_conv_len_prr = np.where(iso_conv_prr_time['occurrence']==1.0)[0]\n",
    "iso_conv_len_south = np.where(iso_conv_south_time['occurrence']==1.0)[0]\n",
    "iso_conv_len_lakes = np.where(iso_conv_lakes_time['occurrence']==1.0)[0]\n",
    "iso_conv_len_east = np.where(iso_conv_east_time['occurrence']==1.0)[0]\n",
    "iso_conv_len_pacnw = np.where(iso_conv_pacnw_time['occurrence']==1.0)[0]\n",
    "iso_conv_len_pacsw = np.where(iso_conv_pacsw_time['occurrence']==1.0)[0]"
   ]
  },
  {
   "cell_type": "code",
   "execution_count": 13,
   "id": "73e49eb1-4750-43d3-b2c6-7104540ad0c0",
   "metadata": {},
   "outputs": [
    {
     "name": "stdout",
     "output_type": "stream",
     "text": [
      "total # in east: 8345\n",
      "total # in south: 8378\n",
      "total # in lakes: 8071\n",
      "total # in prrr: 8167\n",
      "total # in gp: 8357\n",
      "total # in mnt: 8096\n",
      "total # in desert: 8006\n",
      "total # in pacsw: 0\n",
      "total # in pacnw: 0\n"
     ]
    }
   ],
   "source": [
    "print('total # in east:', len(iso_conv_len_east))\n",
    "print('total # in south:',len(iso_conv_len_south))\n",
    "print('total # in lakes:',len(iso_conv_len_lakes))\n",
    "print('total # in prrr:',len(iso_conv_len_prr))\n",
    "print('total # in gp:',len(iso_conv_len_gp))\n",
    "print('total # in mnt:',len(iso_conv_len_mnt))\n",
    "print('total # in desert:',len(iso_conv_len_desert))\n",
    "print('total # in pacsw:',len(iso_conv_len_pacsw))\n",
    "print('total # in pacnw:',len(iso_conv_len_pacnw))"
   ]
  },
  {
   "cell_type": "code",
   "execution_count": 14,
   "id": "ae313f0a-61ff-4d19-8709-624cfd2dfacc",
   "metadata": {},
   "outputs": [
    {
     "name": "stdout",
     "output_type": "stream",
     "text": [
      "avg # in east: 362.82608695652175\n",
      "avg # in south: 364.2608695652174\n",
      "avg # in lakes: 350.9130434782609\n",
      "avg # in prrr: 355.0869565217391\n",
      "avg # in gp: 363.3478260869565\n",
      "avg # in mnt: 352.0\n",
      "avg # in desert: 348.0869565217391\n",
      "avg # in pacsw: 0.0\n",
      "avg # in pacnw: 0.0\n"
     ]
    }
   ],
   "source": [
    "print('avg # in east:', len(iso_conv_len_east)/23)\n",
    "print('avg # in south:',len(iso_conv_len_south)/23)\n",
    "print('avg # in lakes:',len(iso_conv_len_lakes)/23)\n",
    "print('avg # in prrr:',len(iso_conv_len_prr)/23)\n",
    "print('avg # in gp:',len(iso_conv_len_gp)/23)\n",
    "print('avg # in mnt:',len(iso_conv_len_mnt)/23)\n",
    "print('avg # in desert:',len(iso_conv_len_desert)/23)\n",
    "print('avg # in pacsw:',len(iso_conv_len_pacsw)/23)\n",
    "print('avg # in pacnw:',len(iso_conv_len_pacnw)/23)"
   ]
  },
  {
   "cell_type": "code",
   "execution_count": 15,
   "id": "de51dcce-81e0-4ae7-8b3b-6baa7c0aaa91",
   "metadata": {
    "tags": []
   },
   "outputs": [
    {
     "data": {
      "image/png": "[encoded data removed]",
      "text/plain": [
       "<Figure size 1296x864 with 9 Axes>"
      ]
     },
     "metadata": {
      "needs_background": "light"
     },
     "output_type": "display_data"
    }
   ],
   "source": [
    "import matplotlib\n",
    "import matplotlib.pyplot as plt\n",
    "import matplotlib.colors as colors\n",
    "\n",
    "fig = plt.figure(figsize = (18,12))\n",
    "date_plot = matplotlib.dates.date2num(iso_conv_east_time['date'])\n",
    "date_fmt = matplotlib.dates.DateFormatter('%Y%m')\n",
    "\n",
    "ax1 = plt.subplot(3, 3, 1, )\n",
    "ax1.plot(date_plot, iso_conv_east_time['occurrence'], c='b')\n",
    "#ax1.set_xlabel('Time', fontsize=14)\n",
    "ax1.set_ylabel('Isolated convective occurence', fontsize=14)\n",
    "ax1.tick_params(axis='both',labelsize=12)\n",
    "ax1.xaxis.set_major_formatter(date_fmt)\n",
    "ax1.set_ylim(0,1.052)\n",
    "ax1.set_title('a) East', loc='left', fontsize=14)\n",
    "\n",
    "ax2 = plt.subplot(3, 3, 2,)\n",
    "ax2.plot(date_plot, iso_conv_south_time['occurrence'], c='b')\n",
    "#ax2.set_xlabel('Time', fontsize=14)\n",
    "#ax2.set_ylabel('TC occurence', fontsize=14)\n",
    "ax2.tick_params(axis='both',labelsize=12)\n",
    "ax2.xaxis.set_major_formatter(date_fmt)\n",
    "ax2.set_ylim(0,1.052)\n",
    "ax2.set_title('b) South', loc='left', fontsize=14)\n",
    "\n",
    "ax3 = plt.subplot(3, 3, 3, sharex=ax1)\n",
    "ax3.plot(date_plot, iso_conv_lakes_time['occurrence'], c='b')\n",
    "#ax3.set_xlabel('Time', fontsize=14)\n",
    "#ax3.set_ylabel('TC occurence', fontsize=14)\n",
    "ax3.tick_params(axis='both',labelsize=12)\n",
    "ax3.xaxis.set_major_formatter(date_fmt)\n",
    "ax3.set_ylim(1995,2015)\n",
    "ax3.set_ylim(0,1.052)\n",
    "ax3.set_title('c) Great Lakes', loc='left', fontsize=14)\n",
    "\n",
    "\n",
    "ax4 = plt.subplot(3, 3, 4,sharex=ax1)\n",
    "ax4.plot(date_plot, iso_conv_prr_time['occurrence'], c='b')\n",
    "#ax4.set_xlabel('Time', fontsize=14)\n",
    "ax4.set_ylabel('Isolated convective occurence', fontsize=14)\n",
    "ax4.tick_params(axis='both',labelsize=12)\n",
    "ax4.xaxis.set_major_formatter(date_fmt)\n",
    "ax4.set_ylim(0,1.052)\n",
    "ax4.set_title('d) Prairie', loc='left', fontsize=14)\n",
    "\n",
    "\n",
    "ax5 = plt.subplot(3, 3, 5,sharex=ax2)\n",
    "ax5.plot(date_plot, iso_conv_gp_time['occurrence'], c='b')\n",
    "#ax5.set_xlabel('Time', fontsize=14)\n",
    "#ax5.set_ylabel('TC occurence', fontsize=14)\n",
    "ax5.tick_params(axis='both',labelsize=12)\n",
    "ax5.xaxis.set_major_formatter(date_fmt)\n",
    "ax5.set_ylim(0,1.052)\n",
    "ax5.set_title('e) Great Plains', loc='left', fontsize=14)\n",
    "\n",
    "\n",
    "ax6 = plt.subplot(3, 3, 6,sharex=ax2)\n",
    "ax6.plot(date_plot, iso_conv_mnt_time['occurrence'], c='b')\n",
    "#ax6.set_xlabel('Time', fontsize=14)\n",
    "#ax6.set_ylabel('TC occurence', fontsize=14)\n",
    "ax6.tick_params(axis='both',labelsize=12)\n",
    "ax6.xaxis.set_major_formatter(date_fmt)\n",
    "ax6.set_ylim(0,1.052)\n",
    "ax6.set_title('f) Mountain West', loc='left', fontsize=14)\n",
    "\n",
    "\n",
    "ax7 = plt.subplot(3, 3, 7,sharex=ax2)\n",
    "ax7.plot(date_plot, iso_conv_desert_time['occurrence'], c='b')\n",
    "ax7.set_xlabel('Time', fontsize=14)\n",
    "ax7.set_ylabel('Isolated convective occurence', fontsize=14)\n",
    "ax7.tick_params(axis='both',labelsize=12)\n",
    "ax7.xaxis.set_major_formatter(date_fmt)\n",
    "ax7.set_ylim(0,1.052)\n",
    "ax7.set_title('g) Desert', loc='left', fontsize=14)\n",
    "\n",
    "\n",
    "ax8 = plt.subplot(3, 3, 8,sharex=ax2)\n",
    "ax8.plot(date_plot, iso_conv_pacsw_time['occurrence'], c='b')\n",
    "ax8.set_xlabel('Time', fontsize=14)\n",
    "#ax8.set_ylabel('TC occurence', fontsize=14)\n",
    "ax8.tick_params(axis='both',labelsize=12)\n",
    "ax8.xaxis.set_major_formatter(date_fmt)\n",
    "ax8.set_ylim(0,1.052)\n",
    "ax8.set_title('h) Pacific SW', loc='left', fontsize=14)\n",
    "\n",
    "\n",
    "ax9 = plt.subplot(3, 3, 9,sharex=ax2)\n",
    "ax9.plot(date_plot, iso_conv_pacsw_time['occurrence'], c='b')\n",
    "ax9.set_xlabel('Time', fontsize=14)\n",
    "#ax9.set_ylabel('TC occurence', fontsize=14)\n",
    "ax9.tick_params(axis='both',labelsize=12)\n",
    "ax9.xaxis.set_major_formatter(date_fmt)\n",
    "ax9.set_ylim(0,1.052)\n",
    "ax9.set_title('h) Pacific NW', loc='left', fontsize=14)\n",
    "\n",
    "plt.savefig('non_convective_Bukovsky_regions_1995–2017.png', bbox_inches='tight', transparent=False, facecolor='white', dpi=250)\n",
    "plt.show()"
   ]
  },
  {
   "cell_type": "code",
   "execution_count": null,
   "id": "4cbd4609-ffd4-440a-970f-6297f6cc8001",
   "metadata": {},
   "outputs": [],
   "source": []
  }
 ],
 "metadata": {
  "kernelspec": {
   "display_name": "Python [conda env:miniconda3-pangeo3]",
   "language": "python",
   "name": "conda-env-miniconda3-pangeo3-py"
  },
  "language_info": {
   "codemirror_mode": {
    "name": "ipython",
    "version": 3
   },
   "file_extension": ".py",
   "mimetype": "text/x-python",
   "name": "python",
   "nbconvert_exporter": "python",
   "pygments_lexer": "ipython3",
   "version": "3.9.2"
  }
 },
 "nbformat": 4,
 "nbformat_minor": 5
}
