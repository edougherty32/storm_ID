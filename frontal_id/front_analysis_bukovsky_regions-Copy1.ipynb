{
 "cells": [
  {
   "cell_type": "markdown",
   "id": "f68990aa-72a0-4627-8c48-17c5e0d491ec",
   "metadata": {},
   "source": [
    "### script for time series analysis of fronts in Bukovsky region\n",
    "### date created: 31 Aug. 2021\n",
    "### author: doughert@ucar.edu"
   ]
  },
  {
   "cell_type": "code",
   "execution_count": 3,
   "id": "992858e4-fda2-45d7-9bbb-23f3b02245f1",
   "metadata": {},
   "outputs": [],
   "source": [
    "import math \n",
    "import numpy as np\n",
    "import pandas as pd\n",
    "import matplotlib as plt\n",
    "import cartopy.crs as ccrs\n",
    "import cartopy.feature as cfeature\n",
    "import netCDF4 as nc\n",
    "from netCDF4 import Dataset, num2date\n",
    "from datetime import datetime, date, timedelta\n",
    "import glob\n",
    "import xarray as xr\n",
    "from dask.distributed import Client"
   ]
  },
  {
   "cell_type": "markdown",
   "id": "b9794125-55fa-46a8-9611-f37cd48d75f1",
   "metadata": {},
   "source": [
    "### import y-front "
   ]
  },
  {
   "cell_type": "code",
   "execution_count": 4,
   "id": "07058864-d75b-4e7f-ab61-6da958648d90",
   "metadata": {
    "tags": []
   },
   "outputs": [],
   "source": [
    "yfront_df = pd.read_csv('/glade/work/doughert/asp/flood_storm_types/frontal_ID/y_fronts_daily_bukovsky_regions.csv', header=0)\n",
    "yfront_df = yfront_df.drop(columns='Unnamed: 0')"
   ]
  },
  {
   "cell_type": "markdown",
   "id": "e866313d-bf97-44e5-9991-df2d26be29cd",
   "metadata": {},
   "source": [
    "### import x-front"
   ]
  },
  {
   "cell_type": "code",
   "execution_count": 5,
   "id": "9d7a0f00-f307-4ae4-9859-f4441be06caf",
   "metadata": {},
   "outputs": [],
   "source": [
    "xfront_df = pd.read_csv('/glade/work/doughert/asp/flood_storm_types/frontal_ID/x_fronts_daily_bukovsky_regions.csv', header=0)\n",
    "xfront_df = xfront_df.drop(columns='Unnamed: 0')"
   ]
  },
  {
   "cell_type": "code",
   "execution_count": 6,
   "id": "8ad5aa4c-3026-4fdd-a585-786dffe499d7",
   "metadata": {},
   "outputs": [],
   "source": [
    "yfront_df['front_y'] = ['y']*len(yfront_df)\n",
    "xfront_df['front_x'] = ['x']*len(xfront_df)"
   ]
  },
  {
   "cell_type": "markdown",
   "id": "775c5113-2360-4928-983e-57e0cc107219",
   "metadata": {},
   "source": [
    "### concat dfs"
   ]
  },
  {
   "cell_type": "code",
   "execution_count": 23,
   "id": "d747fc26-98a6-4704-b990-730f2a2a8e5a",
   "metadata": {},
   "outputs": [],
   "source": [
    "frontxy_df = pd.concat([yfront_df,xfront_df])"
   ]
  },
  {
   "cell_type": "code",
   "execution_count": 46,
   "id": "3a52a595-be53-4d56-9449-d1fe0d3553e4",
   "metadata": {},
   "outputs": [
    {
     "name": "stdout",
     "output_type": "stream",
     "text": [
      "75573\n",
      "75534\n",
      "151107\n"
     ]
    }
   ],
   "source": [
    "print(len(yfront_df))\n",
    "print(len(xfront_df))\n",
    "print(len(frontxy_df))"
   ]
  },
  {
   "cell_type": "markdown",
   "id": "1026e9a5-1232-4df1-bb55-9ee7a2147815",
   "metadata": {},
   "source": [
    "### remove rows where occurrence = np.nan"
   ]
  },
  {
   "cell_type": "code",
   "execution_count": 26,
   "id": "12fca802-d934-4dd6-85ff-83b6e3671b56",
   "metadata": {},
   "outputs": [],
   "source": [
    "frontxy_df = frontxy_df.fillna({'occurrence':0})"
   ]
  },
  {
   "cell_type": "code",
   "execution_count": 29,
   "id": "3d2ee3de-dc5a-4156-a172-3ed36727c32c",
   "metadata": {},
   "outputs": [],
   "source": [
    "frontxy_df['date'] = pd.to_datetime(frontxy_df['date'])"
   ]
  },
  {
   "cell_type": "code",
   "execution_count": 30,
   "id": "64aa173d-4b9a-49c0-9906-91de264a99a7",
   "metadata": {},
   "outputs": [
    {
     "name": "stdout",
     "output_type": "stream",
     "text": [
      "       region       date  occurrence front_y front_x\n",
      "0      Desert 1995-01-01         1.0       y     NaN\n",
      "1      Desert 1995-01-02         1.0       y     NaN\n",
      "2      Desert 1995-01-03         1.0       y     NaN\n",
      "3      Desert 1995-01-04         1.0       y     NaN\n",
      "4      Desert 1995-01-05         1.0       y     NaN\n",
      "...       ...        ...         ...     ...     ...\n",
      "75529   South 2017-12-27         0.0     NaN       x\n",
      "75530   South 2017-12-28         0.0     NaN       x\n",
      "75531   South 2017-12-29         0.0     NaN       x\n",
      "75532   South 2017-12-30         1.0     NaN       x\n",
      "75533   South 2017-12-31         1.0     NaN       x\n",
      "\n",
      "[151107 rows x 5 columns]\n"
     ]
    }
   ],
   "source": [
    "print(frontxy_df)"
   ]
  },
  {
   "cell_type": "markdown",
   "id": "183bb523-1e71-4f7b-a26c-3c24a80f6abd",
   "metadata": {},
   "source": [
    "### label as x/y front and drop duplicates"
   ]
  },
  {
   "cell_type": "code",
   "execution_count": 31,
   "id": "e264033d-ceca-4656-aba4-7604dafa83ff",
   "metadata": {},
   "outputs": [],
   "source": [
    "dup = frontxy_df.duplicated(subset=['region','date']).where(frontxy_df['occurrence']==1.0)"
   ]
  },
  {
   "cell_type": "code",
   "execution_count": 32,
   "id": "ee7b4047-a3a6-4b66-a025-3f5d06123fab",
   "metadata": {},
   "outputs": [
    {
     "name": "stdout",
     "output_type": "stream",
     "text": [
      "39936\n"
     ]
    }
   ],
   "source": [
    "dup_ct = np.where(dup==1.0)[0]\n",
    "print(len(dup_ct))"
   ]
  },
  {
   "cell_type": "code",
   "execution_count": 38,
   "id": "066c8414-0172-4142-a20b-a90d6eea4324",
   "metadata": {},
   "outputs": [],
   "source": [
    "frontxy_df['front_xy'] = dup"
   ]
  },
  {
   "cell_type": "code",
   "execution_count": 41,
   "id": "99f43fe6-6ab1-446c-ad68-cbc4a104b3a4",
   "metadata": {
    "collapsed": true,
    "jupyter": {
     "outputs_hidden": true
    },
    "tags": []
   },
   "outputs": [
    {
     "name": "stdout",
     "output_type": "stream",
     "text": [
      "   region       date  occurrence front_y front_x  front_xy\n",
      "0  Desert 1995-01-01         1.0       y     NaN       0.0\n",
      "1  Desert 1995-01-02         1.0       y     NaN       0.0\n",
      "2  Desert 1995-01-03         1.0       y     NaN       0.0\n"
     ]
    }
   ],
   "source": [
    "print(frontxy_df.iloc[0:3])"
   ]
  },
  {
   "cell_type": "code",
   "execution_count": 53,
   "id": "55a7c120-5e82-41b3-b2ce-572bd97c2921",
   "metadata": {},
   "outputs": [],
   "source": [
    "frontxy_df2 = frontxy_df.drop_duplicates(subset=['region','date', 'occurrence'], inplace=False, keep='last').reset_index()\n",
    "frontxy_df2 = frontxy_df2.drop(columns='index')"
   ]
  },
  {
   "cell_type": "code",
   "execution_count": 54,
   "id": "59f3ace4-1f6b-4434-a846-a01ec41b73ec",
   "metadata": {},
   "outputs": [
    {
     "name": "stdout",
     "output_type": "stream",
     "text": [
      "100567\n"
     ]
    }
   ],
   "source": [
    "print(len(frontxy_df2))"
   ]
  },
  {
   "cell_type": "markdown",
   "id": "1e77875f-89b8-4b34-b3db-0eb4436473e7",
   "metadata": {},
   "source": [
    "### sortby date "
   ]
  },
  {
   "cell_type": "code",
   "execution_count": 69,
   "id": "3da59332-2cb0-4482-8eb7-4566157dc318",
   "metadata": {},
   "outputs": [],
   "source": [
    "frontxy_df2_sort = frontxy_df2.sort_values(by='date').reset_index()\n",
    "frontxy_df2_sort = frontxy_df2_sort.drop(columns='index')"
   ]
  },
  {
   "cell_type": "code",
   "execution_count": 70,
   "id": "e4d77e11-b851-4801-a921-7f8cc8910259",
   "metadata": {
    "collapsed": true,
    "jupyter": {
     "outputs_hidden": true
    },
    "tags": []
   },
   "outputs": [
    {
     "name": "stdout",
     "output_type": "stream",
     "text": [
      "           region       date  occurrence front_y front_x  front_xy\n",
      "0            East 1995-01-01         1.0       y     NaN       0.0\n",
      "1          Pac_SW 1995-01-01         1.0     NaN       x       1.0\n",
      "2          Pac_NW 1995-01-01         1.0     NaN       x       0.0\n",
      "3       MountainW 1995-01-01         1.0     NaN       x       1.0\n",
      "4           South 1995-01-01         1.0     NaN       x       1.0\n",
      "...           ...        ...         ...     ...     ...       ...\n",
      "100562       East 2017-12-31         1.0       y     NaN       0.0\n",
      "100563     Pac_NW 2017-12-31         1.0       y     NaN       0.0\n",
      "100564         GP 2017-12-31         1.0     NaN       x       1.0\n",
      "100565     Desert 2017-12-31         1.0     NaN       x       1.0\n",
      "100566      South 2017-12-31         1.0     NaN       x       1.0\n",
      "\n",
      "[100567 rows x 6 columns]\n"
     ]
    }
   ],
   "source": [
    "print(frontxy_df2_sort)"
   ]
  },
  {
   "cell_type": "markdown",
   "id": "5a16e87d-8207-42ce-ab2e-46f2b4d3fe99",
   "metadata": {},
   "source": [
    "### remove duplicated rows where front = 0"
   ]
  },
  {
   "cell_type": "code",
   "execution_count": 99,
   "id": "9aaf4513-df9c-4cb7-bb5c-cc3fe622c7b1",
   "metadata": {},
   "outputs": [],
   "source": [
    "dup_new =frontxy_df2_sort.duplicated(subset=['region','date'], keep=False).where(frontxy_df2_sort['occurrence']==0.0)\n",
    "dup_new = dup_new.fillna(0)\n",
    "frontxy_df2_sort['drop_cols'] = dup_new"
   ]
  },
  {
   "cell_type": "code",
   "execution_count": 112,
   "id": "cce4fcbd-c835-4431-934f-721368b0ffbe",
   "metadata": {},
   "outputs": [],
   "source": [
    "frontxy_df2_sort_drop = frontxy_df2_sort[frontxy_df2_sort['drop_cols']==0.0].reset_index()\n",
    "frontxy_df2_sort_drop = frontxy_df2_sort_drop.drop(columns='index')\n",
    "frontxy_df2_sort_drop = frontxy_df2_sort_drop.drop(columns='drop_cols')\n",
    "frontxy_df2_sort_drop['front_y'] = frontxy_df2_sort_drop['front_y'].fillna(0)\n",
    "frontxy_df2_sort_drop['front_x'] = frontxy_df2_sort_drop['front_x'].fillna(0)"
   ]
  },
  {
   "cell_type": "code",
   "execution_count": 137,
   "id": "c96d531d-421a-4798-8239-d6f6f9217304",
   "metadata": {},
   "outputs": [
    {
     "name": "stdout",
     "output_type": "stream",
     "text": [
      "75602\n",
      "       region       date  occurrence front_y front_x  front_xy\n",
      "0        East 1995-01-01         1.0       y       0       0.0\n",
      "1      Pac_SW 1995-01-01         1.0       0       x       1.0\n",
      "2      Pac_NW 1995-01-01         1.0       0       x       0.0\n",
      "3   MountainW 1995-01-01         1.0       0       x       1.0\n",
      "4       South 1995-01-01         1.0       0       x       1.0\n",
      "5      Desert 1995-01-01         1.0       0       x       1.0\n",
      "6          GP 1995-01-01         1.0       0       x       1.0\n",
      "7      Praire 1995-01-01         1.0       y       0       0.0\n",
      "8       Lakes 1995-01-01         1.0       y       0       0.0\n",
      "9        East 1995-01-02         1.0       0       x       1.0\n",
      "10      Lakes 1995-01-02         0.0       y       0       NaN\n"
     ]
    }
   ],
   "source": [
    "print(len(frontxy_df2_sort_drop ))\n",
    "print(frontxy_df2_sort_drop[0:11])"
   ]
  },
  {
   "cell_type": "markdown",
   "id": "9ab8c038-b0d8-413a-aafb-884975b8e12e",
   "metadata": {},
   "source": [
    "### export csv of daily frontal occurrence by region"
   ]
  },
  {
   "cell_type": "code",
   "execution_count": 135,
   "id": "bea20944-242e-497d-931f-7afb9ac224f8",
   "metadata": {},
   "outputs": [],
   "source": [
    "frontxy_df2_sort_drop.to_csv('Frontal_daily_counts_bukovsky_regions.csv')"
   ]
  },
  {
   "cell_type": "markdown",
   "id": "ceefa509-c4c1-497a-8e9d-62a284db9f57",
   "metadata": {},
   "source": [
    "### separate dfs for each region"
   ]
  },
  {
   "cell_type": "code",
   "execution_count": 126,
   "id": "1a82d413-e3f6-4078-807b-dbe011f7e6bc",
   "metadata": {},
   "outputs": [],
   "source": [
    "frontxy_pacnw = frontxy_df2_sort_drop[frontxy_df2_sort_drop['region']=='Pac_NW']\n",
    "frontxy_pacsw = frontxy_df2_sort_drop[frontxy_df2_sort_drop['region']=='Pac_SW']\n",
    "frontxy_mnt = frontxy_df2_sort_drop[frontxy_df2_sort_drop['region']=='MountainW']\n",
    "frontxy_desert = frontxy_df2_sort_drop[frontxy_df2_sort_drop['region']=='Desert']\n",
    "frontxy_gp = frontxy_df2_sort_drop[frontxy_df2_sort_drop['region']=='GP']\n",
    "frontxy_prr = frontxy_df2_sort_drop[frontxy_df2_sort_drop['region']=='Praire']\n",
    "frontxy_south = frontxy_df2_sort_drop[frontxy_df2_sort_drop['region']=='South']\n",
    "frontxy_lakes = frontxy_df2_sort_drop[frontxy_df2_sort_drop['region']=='Lakes']\n",
    "frontxy_east = frontxy_df2_sort_drop[frontxy_df2_sort_drop['region']=='East']"
   ]
  },
  {
   "cell_type": "code",
   "execution_count": 127,
   "id": "a2561880-6812-47e9-9a33-47fec93e3c8b",
   "metadata": {},
   "outputs": [
    {
     "name": "stdout",
     "output_type": "stream",
     "text": [
      "8401\n",
      "8395\n",
      "8401\n",
      "8401\n",
      "8401\n"
     ]
    }
   ],
   "source": [
    "print(len(frontxy_pacnw))\n",
    "print(len(frontxy_pacsw))\n",
    "print(len(frontxy_mnt))\n",
    "print(len(frontxy_desert))\n",
    "print(len(frontxy_gp))"
   ]
  },
  {
   "cell_type": "code",
   "execution_count": 128,
   "id": "4fcd4b72-ed25-4961-861e-ceebc674bd25",
   "metadata": {},
   "outputs": [],
   "source": [
    "dates_since_1995 = pd.DataFrame({'date':pd.date_range(start='1995-01-01', end='2017-12-31', freq='D')})"
   ]
  },
  {
   "cell_type": "code",
   "execution_count": 129,
   "id": "3b1335af-d9a3-4411-b023-223b4e7af91d",
   "metadata": {},
   "outputs": [],
   "source": [
    "frontxy_pacnw_time = frontxy_pacnw.merge(dates_since_1995, how='right', on='date')\n",
    "frontxy_pacsw_time = frontxy_pacsw.merge(dates_since_1995, how='right', on='date')\n",
    "frontxy_mnt_time = frontxy_mnt.merge(dates_since_1995, how='right', on='date')\n",
    "frontxy_desert_time = frontxy_desert.merge(dates_since_1995, how='right', on='date')\n",
    "frontxy_gp_time = frontxy_gp.merge(dates_since_1995, how='right', on='date')\n",
    "frontxy_prr_time = frontxy_prr.merge(dates_since_1995, how='right', on='date')\n",
    "frontxy_south_time = frontxy_south.merge(dates_since_1995, how='right', on='date')\n",
    "frontxy_lakes_time = frontxy_lakes.merge(dates_since_1995, how='right', on='date')\n",
    "frontxy_east_time = frontxy_east.merge(dates_since_1995, how='right', on='date')"
   ]
  },
  {
   "cell_type": "code",
   "execution_count": 130,
   "id": "fc266618-8c7c-4ec5-91ec-85d42d03f978",
   "metadata": {},
   "outputs": [
    {
     "name": "stdout",
     "output_type": "stream",
     "text": [
      "8401\n",
      "8401\n",
      "8401\n",
      "8401\n",
      "8401\n"
     ]
    }
   ],
   "source": [
    "print(len(frontxy_pacnw_time))\n",
    "print(len(frontxy_pacsw_time))\n",
    "print(len(frontxy_mnt_time))\n",
    "print(len(frontxy_desert_time))\n",
    "print(len(frontxy_gp_time))"
   ]
  },
  {
   "cell_type": "markdown",
   "id": "cd2e8457-08b5-4406-8818-0269312795cd",
   "metadata": {},
   "source": [
    "#### replace nans with 0s in occurence"
   ]
  },
  {
   "cell_type": "code",
   "execution_count": 131,
   "id": "9cbae12c-168d-4823-b99d-0844869e9b2a",
   "metadata": {},
   "outputs": [],
   "source": [
    "frontxy_pacnw_time = frontxy_pacnw_time.fillna({\"occurrence\":0})\n",
    "frontxy_pacsw_time = frontxy_pacsw_time.fillna({\"occurrence\":0})\n",
    "frontxy_mnt_time = frontxy_mnt_time.fillna({\"occurrence\":0})\n",
    "frontxy_desert_time = frontxy_desert_time.fillna({\"occurrence\":0})\n",
    "frontxy_gp_time = frontxy_gp_time.fillna({\"occurrence\":0})\n",
    "frontxy_prr_time = frontxy_prr_time.fillna({\"occurrence\":0})\n",
    "frontxy_south_time = frontxy_south_time.fillna({\"occurrence\":0})\n",
    "frontxy_lakes_time = frontxy_lakes_time.fillna({\"occurrence\":0})\n",
    "frontxy_east_time = frontxy_east_time.fillna({\"occurrence\":0})"
   ]
  },
  {
   "cell_type": "markdown",
   "id": "6b43b040-9882-431f-bcf4-27b69691e5db",
   "metadata": {},
   "source": [
    "#### plot time series of fronts"
   ]
  },
  {
   "cell_type": "code",
   "execution_count": 133,
   "id": "2e66c9e8-e798-4ed2-b192-f0382a16f910",
   "metadata": {},
   "outputs": [
    {
     "data": {
      "image/png": "[encoded data removed]",
      "text/plain": [
       "<Figure size 1296x864 with 9 Axes>"
      ]
     },
     "metadata": {
      "needs_background": "light"
     },
     "output_type": "display_data"
    }
   ],
   "source": [
    "import matplotlib\n",
    "import matplotlib.pyplot as plt\n",
    "import matplotlib.colors as colors\n",
    "\n",
    "fig = plt.figure(figsize = (18,12))\n",
    "date_plot = matplotlib.dates.date2num(frontxy_east_time['date'])\n",
    "date_fmt = matplotlib.dates.DateFormatter('%Y%m')\n",
    "\n",
    "ax1 = plt.subplot(3, 3, 1, )\n",
    "ax1.plot(date_plot, frontxy_east_time['occurrence'], c='b')\n",
    "#ax1.set_xlabel('Time', fontsize=14)\n",
    "ax1.set_ylabel('Front occurence', fontsize=14)\n",
    "ax1.tick_params(axis='both',labelsize=12)\n",
    "ax1.xaxis.set_major_formatter(date_fmt)\n",
    "ax1.set_ylim(0,1.052)\n",
    "ax1.set_title('a) East', loc='left', fontsize=14)\n",
    "\n",
    "ax2 = plt.subplot(3, 3, 2,)\n",
    "ax2.plot(date_plot, frontxy_south_time['occurrence'], c='b')\n",
    "#ax2.set_xlabel('Time', fontsize=14)\n",
    "#ax2.set_ylabel('TC occurence', fontsize=14)\n",
    "ax2.tick_params(axis='both',labelsize=12)\n",
    "ax2.xaxis.set_major_formatter(date_fmt)\n",
    "ax2.set_ylim(0,1.052)\n",
    "ax2.set_title('b) South', loc='left', fontsize=14)\n",
    "\n",
    "ax3 = plt.subplot(3, 3, 3, sharex=ax1)\n",
    "ax3.plot(date_plot, frontxy_lakes_time['occurrence'], c='b')\n",
    "#ax3.set_xlabel('Time', fontsize=14)\n",
    "#ax3.set_ylabel('TC occurence', fontsize=14)\n",
    "ax3.tick_params(axis='both',labelsize=12)\n",
    "ax3.xaxis.set_major_formatter(date_fmt)\n",
    "ax3.set_ylim(1995,2015)\n",
    "ax3.set_ylim(0,1.052)\n",
    "ax3.set_title('c) Great Lakes', loc='left', fontsize=14)\n",
    "\n",
    "\n",
    "ax4 = plt.subplot(3, 3, 4,sharex=ax1)\n",
    "ax4.plot(date_plot, frontxy_prr_time['occurrence'], c='b')\n",
    "#ax4.set_xlabel('Time', fontsize=14)\n",
    "ax4.set_ylabel('Front occurence', fontsize=14)\n",
    "ax4.tick_params(axis='both',labelsize=12)\n",
    "ax4.xaxis.set_major_formatter(date_fmt)\n",
    "ax4.set_ylim(0,1.052)\n",
    "ax4.set_title('d) Prairie', loc='left', fontsize=14)\n",
    "\n",
    "\n",
    "ax5 = plt.subplot(3, 3, 5,sharex=ax2)\n",
    "ax5.plot(date_plot, frontxy_gp_time['occurrence'], c='b')\n",
    "#ax5.set_xlabel('Time', fontsize=14)\n",
    "#ax5.set_ylabel('TC occurence', fontsize=14)\n",
    "ax5.tick_params(axis='both',labelsize=12)\n",
    "ax5.xaxis.set_major_formatter(date_fmt)\n",
    "ax5.set_ylim(0,1.052)\n",
    "ax5.set_title('e) Great Plains', loc='left', fontsize=14)\n",
    "\n",
    "\n",
    "ax6 = plt.subplot(3, 3, 6,sharex=ax2)\n",
    "ax6.plot(date_plot, frontxy_mnt_time['occurrence'], c='b')\n",
    "#ax6.set_xlabel('Time', fontsize=14)\n",
    "#ax6.set_ylabel('TC occurence', fontsize=14)\n",
    "ax6.tick_params(axis='both',labelsize=12)\n",
    "ax6.xaxis.set_major_formatter(date_fmt)\n",
    "ax6.set_ylim(0,1.052)\n",
    "ax6.set_title('f) Mountain West', loc='left', fontsize=14)\n",
    "\n",
    "\n",
    "ax7 = plt.subplot(3, 3, 7,sharex=ax2)\n",
    "ax7.plot(date_plot, frontxy_desert_time['occurrence'], c='b')\n",
    "ax7.set_xlabel('Time', fontsize=14)\n",
    "ax7.set_ylabel('Front occurence', fontsize=14)\n",
    "ax7.tick_params(axis='both',labelsize=12)\n",
    "ax7.xaxis.set_major_formatter(date_fmt)\n",
    "ax7.set_ylim(0,1.052)\n",
    "ax7.set_title('g) Desert', loc='left', fontsize=14)\n",
    "\n",
    "\n",
    "ax8 = plt.subplot(3, 3, 8,sharex=ax2)\n",
    "ax8.plot(date_plot, frontxy_pacsw_time['occurrence'], c='b')\n",
    "ax8.set_xlabel('Time', fontsize=14)\n",
    "#ax8.set_ylabel('TC occurence', fontsize=14)\n",
    "ax8.tick_params(axis='both',labelsize=12)\n",
    "ax8.xaxis.set_major_formatter(date_fmt)\n",
    "ax8.set_ylim(0,1.052)\n",
    "ax8.set_title('h) Pacific SW', loc='left', fontsize=14)\n",
    "\n",
    "\n",
    "ax9 = plt.subplot(3, 3, 9,sharex=ax2)\n",
    "ax9.plot(date_plot, frontxy_pacsw_time['occurrence'], c='b')\n",
    "ax9.set_xlabel('Time', fontsize=14)\n",
    "#ax9.set_ylabel('TC occurence', fontsize=14)\n",
    "ax9.tick_params(axis='both',labelsize=12)\n",
    "ax9.xaxis.set_major_formatter(date_fmt)\n",
    "ax9.set_ylim(0,1.052)\n",
    "ax9.set_title('h) Pacific NW', loc='left', fontsize=14)\n",
    "\n",
    "plt.savefig('front_id_Bukovsky_regions_1995–2017.png', bbox_inches='tight', transparent=False, facecolor='white', dpi=250)\n",
    "plt.show()"
   ]
  },
  {
   "cell_type": "code",
   "execution_count": null,
   "id": "f00903d1-2b13-4a13-b72c-be51d273bbb5",
   "metadata": {},
   "outputs": [],
   "source": []
  }
 ],
 "metadata": {
  "kernelspec": {
   "display_name": "Python [conda env:miniconda3-pangeo3]",
   "language": "python",
   "name": "conda-env-miniconda3-pangeo3-py"
  },
  "language_info": {
   "codemirror_mode": {
    "name": "ipython",
    "version": 3
   },
   "file_extension": ".py",
   "mimetype": "text/x-python",
   "name": "python",
   "nbconvert_exporter": "python",
   "pygments_lexer": "ipython3",
   "version": "3.9.2"
  }
 },
 "nbformat": 4,
 "nbformat_minor": 5
}
