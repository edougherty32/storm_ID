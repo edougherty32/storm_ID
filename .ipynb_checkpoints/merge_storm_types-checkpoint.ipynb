{
 "cells": [
  {
   "cell_type": "markdown",
   "id": "9065f55a-410d-4e4b-8d2e-822a605df8e6",
   "metadata": {},
   "source": [
    "### script for merging time series of storm types\n",
    "### over the CONUS in the Bukovsky regions from 1995–2017\n",
    "### date created: 20 Oct. 2021\n",
    "### contact: doughert@ucar.edu"
   ]
  },
  {
   "cell_type": "code",
   "execution_count": 1,
   "id": "49f58b6a-998d-4249-a8c5-ec6bcb9d6a3d",
   "metadata": {},
   "outputs": [],
   "source": [
    "import math \n",
    "import numpy as np\n",
    "import pandas as pd\n",
    "import matplotlib as plt\n",
    "import cartopy.crs as ccrs\n",
    "import cartopy.feature as cfeature\n",
    "import netCDF4 as nc\n",
    "from netCDF4 import Dataset, num2date\n",
    "from datetime import datetime, date, timedelta\n",
    "import glob\n",
    "import xarray as xr\n",
    "import geopandas as gp\n",
    "#from wrf import getvar, ALL_TIMES"
   ]
  },
  {
   "cell_type": "markdown",
   "id": "16a82ae6-95cc-4e4f-a074-40c4b47e14b8",
   "metadata": {},
   "source": [
    "### import df of all different storm types\n"
   ]
  },
  {
   "cell_type": "code",
   "execution_count": 5,
   "id": "bc7d0ae6-3ad0-4fde-bce2-8edeab3b70fa",
   "metadata": {},
   "outputs": [],
   "source": [
    "isolated =  pd.read_csv('Isolated_convection_daily_counts_bukovsky_regions.csv', header=0)\n",
    "nonconv =  pd.read_csv('non_convective_daily_counts_bukovsky_regions.csv', header=0)\n",
    "mcs =  pd.read_csv('MCS_daily_counts_bukovsky_regions.csv', header=0)\n",
    "fronts =  pd.read_csv('/glade/work/doughert/asp/flood_storm_types/frontal_ID/Frontal_daily_counts_bukovsky_regions.csv', header=0)\n",
    "etc =  pd.read_csv('ETC_daily_counts_bukovsky_regions.csv', header=0)\n",
    "tc =  pd.read_csv('TC_daily_counts_bukovsky_regions.csv', header=0)"
   ]
  },
  {
   "cell_type": "markdown",
   "id": "7cc9cc5b-5210-4f58-b578-f57e9c91aff8",
   "metadata": {},
   "source": [
    "### rename occurence as storm type"
   ]
  },
  {
   "cell_type": "code",
   "execution_count": 6,
   "id": "fbad7bcb-7d67-4d4b-84cf-58ebca225a15",
   "metadata": {},
   "outputs": [],
   "source": [
    "isolated  = isolated.rename({'occurrence':'isolated'}, axis=1)\n",
    "nonconv  = nonconv.rename({'occurrence':'nonconv'}, axis=1)\n",
    "mcs  = mcs.rename({'occurrence':'mcs'}, axis=1)\n",
    "fronts  = fronts.rename({'occurrence':'fronts'}, axis=1)\n",
    "etc['etc']  = (etc['Pmin']>0).astype(int)\n",
    "etc = etc.rename({'Date':'date'}, axis=1)\n",
    "etc = etc.rename({'Region':'region'}, axis=1)\n",
    "tc['tc']  = (tc['Pmin']==1).astype(int)\n",
    "tc = tc.rename({'Date':'date'}, axis=1)\n",
    "tc = tc.rename({'Region':'region'}, axis=1)"
   ]
  },
  {
   "cell_type": "code",
   "execution_count": 7,
   "id": "36504b69-ba6c-45a1-9f44-68836470804e",
   "metadata": {},
   "outputs": [],
   "source": [
    "pd.options.display.max_columns=999\n",
    "pd.options.display.max_rows=999"
   ]
  },
  {
   "cell_type": "markdown",
   "id": "27820242-52a8-43cc-bf74-102488b26972",
   "metadata": {},
   "source": [
    "#### rename columns regarding intensity and size of storm"
   ]
  },
  {
   "cell_type": "code",
   "execution_count": 8,
   "id": "4024cecd-1b7e-4524-9287-4736bdff913c",
   "metadata": {},
   "outputs": [],
   "source": [
    "isolated = isolated.rename(columns={'avg_dbz':'avg_iso_dbz', 'size (km)':'size_iso'})\n",
    "nonconv = nonconv.rename(columns={'avg_dbz':'avg_nonconv_dbz', 'size (km)':'size_nonconv'})\n",
    "mcs = mcs.rename(columns={'avg_dbz':'avg_mcs_dbz', 'size (km)':'size_mcs'})\n",
    "etc = etc.rename(columns={'Pmin':'etc_Pmin'})\n",
    "tc = tc.rename(columns={'Pmin':'tc_Pmin'})"
   ]
  },
  {
   "cell_type": "markdown",
   "id": "8a526789-59de-4e4e-bebd-ea5fa55859b5",
   "metadata": {},
   "source": [
    "#### drop extra columns"
   ]
  },
  {
   "cell_type": "code",
   "execution_count": 9,
   "id": "cf24cb39-3c8c-4bc6-b92e-6d91593c2d65",
   "metadata": {
    "tags": []
   },
   "outputs": [],
   "source": [
    "isolated = isolated.drop(['Unnamed: 0', 'object_idx', 'max_dbz'],axis=1)\n",
    "nonconv = nonconv.drop(['Unnamed: 0', 'object_idx', 'max_dbz'],axis=1)\n",
    "mcs = mcs.drop(['Unnamed: 0', 'object_idx', 'max_dbz'],axis=1)\n",
    "fronts = fronts.drop(['Unnamed: 0', 'front_y', 'front_x', 'front_xy'],axis=1)\n",
    "etc = etc.drop(['Unnamed: 0',], axis=1)\n",
    "tc = tc.drop(['Unnamed: 0', 'Vmax'], axis=1)"
   ]
  },
  {
   "cell_type": "code",
   "execution_count": 10,
   "id": "1cf5d786-7e25-4e1e-8240-30f79e3ff249",
   "metadata": {},
   "outputs": [],
   "source": [
    "conv_merge = isolated.merge(nonconv, on=['date', 'region'], how='right')\n",
    "rain_merge = conv_merge.merge(mcs, on=['date', 'region'], how='left')\n",
    "fronts_merge = rain_merge.merge(fronts, on=['date', 'region'], how='right')\n",
    "etc_merge = fronts_merge.merge(etc, on=['date', 'region'], how='left')\n",
    "tc_merge = etc_merge.merge(tc, on=['date', 'region'], how='left')"
   ]
  },
  {
   "cell_type": "code",
   "execution_count": 11,
   "id": "fdd27ace-6563-413f-a6bf-9a113436f55c",
   "metadata": {},
   "outputs": [
    {
     "name": "stdout",
     "output_type": "stream",
     "text": [
      "          region        date  isolated  size_iso  avg_iso_dbz  nonconv  \\\n",
      "0           East  1995-01-01       1.0      13.0    41.199413      1.0   \n",
      "1         Pac_SW  1995-01-01       0.0       0.0     0.000000      0.0   \n",
      "2         Pac_NW  1995-01-01       0.0       0.0     0.000000      0.0   \n",
      "3      MountainW  1995-01-01       0.0       0.0     0.000000      0.0   \n",
      "4          South  1995-01-01       0.0       0.0     0.000000      0.0   \n",
      "...          ...         ...       ...       ...          ...      ...   \n",
      "75617       East  2017-12-31       0.0       0.0     0.000000      1.0   \n",
      "75618     Pac_NW  2017-12-31       0.0       0.0     0.000000      0.0   \n",
      "75619         GP  2017-12-31       0.0       0.0     0.000000      1.0   \n",
      "75620     Desert  2017-12-31       0.0       0.0     0.000000      1.0   \n",
      "75621      South  2017-12-31       1.0      36.0    42.917598      1.0   \n",
      "\n",
      "       size_nonconv  avg_nonconv_dbz  mcs  size_mcs  avg_mcs_dbz  fronts  \\\n",
      "0       1146.083333        22.809374  0.0       0.0          0.0     1.0   \n",
      "1          0.000000         0.000000  0.0       0.0          0.0     1.0   \n",
      "2          0.000000         0.000000  0.0       0.0          0.0     1.0   \n",
      "3          0.000000         0.000000  0.0       0.0          0.0     1.0   \n",
      "4          0.000000         0.000000  0.0       0.0          0.0     1.0   \n",
      "...             ...              ...  ...       ...          ...     ...   \n",
      "75617    654.000000        20.343395  0.0       0.0          0.0     1.0   \n",
      "75618      0.000000         0.000000  0.0       0.0          0.0     1.0   \n",
      "75619    815.777778        20.293388  0.0       0.0          0.0     1.0   \n",
      "75620     68.000000        22.612467  0.0       0.0          0.0     1.0   \n",
      "75621    306.189189        23.387731  0.0       0.0          0.0     1.0   \n",
      "\n",
      "          etc_Pmin  etc  tc_Pmin   tc  \n",
      "0      1009.900000  1.0      0.0  0.0  \n",
      "1         0.000000  0.0      0.0  0.0  \n",
      "2         0.000000  0.0      0.0  0.0  \n",
      "3         0.000000  0.0      0.0  0.0  \n",
      "4         0.000000  0.0      0.0  0.0  \n",
      "...            ...  ...      ...  ...  \n",
      "75617     0.000000  0.0      0.0  0.0  \n",
      "75618     0.000000  0.0      0.0  0.0  \n",
      "75619     0.000000  0.0      0.0  0.0  \n",
      "75620  1014.990476  1.0      0.0  0.0  \n",
      "75621     0.000000  0.0      0.0  0.0  \n",
      "\n",
      "[75622 rows x 16 columns]\n"
     ]
    }
   ],
   "source": [
    "tc_merge = tc_merge.fillna(0)\n",
    "print(tc_merge)"
   ]
  },
  {
   "cell_type": "markdown",
   "id": "ed3f111a-1e99-448a-a3fd-2a6aac13b645",
   "metadata": {},
   "source": [
    "### determine predominant cause of rainfall - see Fig. 2 in Brunner and Dougherty (2022)"
   ]
  },
  {
   "cell_type": "code",
   "execution_count": 12,
   "id": "1a74ffc8-409f-4710-b383-2986eab2a6b7",
   "metadata": {},
   "outputs": [],
   "source": [
    "storm_type = []\n",
    "avg_dbz = []\n",
    "size = []\n",
    "pmin = []\n",
    "\n",
    "for i in range(len(tc_merge)):\n",
    "    # classify TC\n",
    "    if tc_merge['tc'].iloc[i]==1.0:\n",
    "        storm_type.append('tc')\n",
    "        avg_dbz.append(0)\n",
    "        size.append(0)\n",
    "        pmin.append(tc_merge['tc_Pmin'].iloc[i])\n",
    "        \n",
    "        \n",
    "    # classify frontal precip\n",
    "    elif (tc_merge['fronts'].iloc[i]==1.0) and (tc_merge['mcs'].iloc[i]==1.0):\n",
    "        storm_type.append('frontal mcs')\n",
    "        avg_dbz.append(tc_merge['avg_mcs_dbz'].iloc[i])\n",
    "        size.append(tc_merge['size_mcs'].iloc[i])\n",
    "        pmin.append(0)\n",
    "        \n",
    "    elif (tc_merge['fronts'].iloc[i]==1.0) and (tc_merge['isolated'].iloc[i]==1.0) and (tc_merge['mcs'].iloc[i]==0.0):\n",
    "        storm_type.append('frontal isolated')\n",
    "        avg_dbz.append(tc_merge['avg_iso_dbz'].iloc[i])\n",
    "        size.append(tc_merge['size_iso'].iloc[i])\n",
    "        pmin.append(0)\n",
    "        \n",
    "    elif (tc_merge['fronts'].iloc[i]==1.0) and (tc_merge['isolated'].iloc[i]==0.0) and (tc_merge['mcs'].iloc[i]==0.0) and (tc_merge['nonconv'].iloc[i]==1.0):\n",
    "        storm_type.append('frontal stratiform')\n",
    "        avg_dbz.append(tc_merge['avg_nonconv_dbz'].iloc[i])\n",
    "        size.append(tc_merge['size_nonconv'].iloc[i])\n",
    "        pmin.append(0)\n",
    "        \n",
    "        \n",
    "    # classify fronts w/o precip\n",
    "    elif (tc_merge['fronts'].iloc[i]==1.0) and (tc_merge['mcs'].iloc[i]==0.0) and (tc_merge['isolated'].iloc[i]==0.0) and (tc_merge['nonconv'].iloc[i]==0.0):\n",
    "        storm_type.append('front no rain')\n",
    "        avg_dbz.append(0)\n",
    "        size.append(0)\n",
    "        pmin.append(0)\n",
    "        \n",
    "        \n",
    "    # classify etc precip (w/o front since most have fronts)\n",
    "    elif (tc_merge['etc'].iloc[i]==1.0) and (tc_merge['fronts'].iloc[i]==0.0) and (tc_merge['mcs'].iloc[i]==1.0):\n",
    "        storm_type.append('etc mcs')\n",
    "        avg_dbz.append(tc_merge['avg_mcs_dbz'].iloc[i])\n",
    "        size.append(tc_merge['size_mcs'].iloc[i])\n",
    "        pmin.append(tc_merge['etc_Pmin'].iloc[i])\n",
    "        \n",
    "    elif (tc_merge['etc'].iloc[i]==1.0) and (tc_merge['fronts'].iloc[i]==0.0) and (tc_merge['mcs'].iloc[i]==0.0) and (tc_merge['isolated'].iloc[i]==1.0):\n",
    "        storm_type.append('etc isolated')\n",
    "        avg_dbz.append(tc_merge['avg_iso_dbz'].iloc[i])\n",
    "        size.append(tc_merge['size_iso'].iloc[i])\n",
    "        pmin.append(tc_merge['etc_Pmin'].iloc[i])\n",
    "        \n",
    "    elif (tc_merge['etc'].iloc[i]==1.0) and (tc_merge['fronts'].iloc[i]==0.0) and (tc_merge['mcs'].iloc[i]==0.0) and (tc_merge['isolated'].iloc[i]==0.0) and (tc_merge['nonconv'].iloc[i]==1.0):\n",
    "        storm_type.append('etc stratiform')\n",
    "        avg_dbz.append(tc_merge['avg_nonconv_dbz'].iloc[i])\n",
    "        size.append(tc_merge['size_nonconv'].iloc[i])\n",
    "        pmin.append(tc_merge['etc_Pmin'].iloc[i])\n",
    "        \n",
    "        \n",
    "      # classify precip w/o fronts\n",
    "    elif (tc_merge['fronts'].iloc[i]==0.0) and (tc_merge['mcs'].iloc[i]==1.0):\n",
    "        storm_type.append('non-frontal mcs')\n",
    "        avg_dbz.append(tc_merge['avg_mcs_dbz'].iloc[i])\n",
    "        size.append(tc_merge['size_mcs'].iloc[i])\n",
    "        pmin.append(0)\n",
    "        \n",
    "    elif (tc_merge['fronts'].iloc[i]==0.0) and (tc_merge['isolated'].iloc[i]==1.0) and (tc_merge['mcs'].iloc[i]==0.0):\n",
    "        storm_type.append('non-frontal isolated')   \n",
    "        avg_dbz.append(tc_merge['avg_iso_dbz'].iloc[i])\n",
    "        size.append(tc_merge['size_iso'].iloc[i])\n",
    "        pmin.append(0)\n",
    "        \n",
    "    elif (tc_merge['fronts'].iloc[i]==0.0) and (tc_merge['isolated'].iloc[i]==0.0) and (tc_merge['mcs'].iloc[i]==0.0) and (tc_merge['nonconv'].iloc[i]==1.0):\n",
    "        storm_type.append('non-frontal stratiform')\n",
    "        avg_dbz.append(tc_merge['avg_nonconv_dbz'].iloc[i])\n",
    "        size.append(tc_merge['size_nonconv'].iloc[i])\n",
    "        pmin.append(0)\n",
    "        \n",
    "    # classify etcs w/o precip or fronts\n",
    "    elif (tc_merge['fronts'].iloc[i]==1.0) and (tc_merge['fronts'].iloc[i]==0.0) and (tc_merge['mcs'].iloc[i]==0.0) and (tc_merge['isolated'].iloc[i]==0.0) and (tc_merge['nonconv'].iloc[i]==0.0):\n",
    "        storm_type.append('etc no rain')\n",
    "        avg_dbz.append(0)\n",
    "        size.append(0)\n",
    "        pmin.append(tc_merge['etc_Pmin'].iloc[i])\n",
    "    else:\n",
    "        storm_type.append('none')\n",
    "        avg_dbz.append(0)\n",
    "        size.append(0)\n",
    "        pmin.append(0)\n",
    "        "
   ]
  },
  {
   "cell_type": "code",
   "execution_count": 13,
   "id": "1ad925e2-9324-4228-ad71-1f79d5675edc",
   "metadata": {},
   "outputs": [
    {
     "name": "stdout",
     "output_type": "stream",
     "text": [
      "75622\n",
      "75622\n",
      "75622\n",
      "75622\n"
     ]
    }
   ],
   "source": [
    "print(len(storm_type))\n",
    "print(len(avg_dbz))\n",
    "print(len(size))\n",
    "print(len(pmin))"
   ]
  },
  {
   "cell_type": "code",
   "execution_count": 14,
   "id": "5681a849-76b5-4581-a6a3-9a98b25def2a",
   "metadata": {},
   "outputs": [],
   "source": [
    "tc_merge['storm_type'] = storm_type\n",
    "tc_merge['avg_dbz'] = avg_dbz\n",
    "tc_merge['size'] = size\n",
    "tc_merge['pmin'] = pmin"
   ]
  },
  {
   "cell_type": "code",
   "execution_count": 15,
   "id": "776f1d39-ce6d-49da-bb86-b95d4a72db8f",
   "metadata": {},
   "outputs": [],
   "source": [
    "tc_merge = tc_merge.drop(['size_iso', 'avg_iso_dbz', 'size_nonconv', 'avg_nonconv_dbz', 'size_mcs','avg_mcs_dbz', 'etc_Pmin', 'tc_Pmin'],axis=1)"
   ]
  },
  {
   "cell_type": "markdown",
   "id": "32160fd1-ee01-459d-b206-71df8391dfcd",
   "metadata": {},
   "source": [
    "### go through classification scheme again to reclassify events in Pac NW and SW"
   ]
  },
  {
   "cell_type": "code",
   "execution_count": 17,
   "id": "dde23807-a5d0-4228-a739-6a639cd31db7",
   "metadata": {
    "collapsed": true,
    "jupyter": {
     "outputs_hidden": true
    },
    "tags": []
   },
   "outputs": [
    {
     "name": "stderr",
     "output_type": "stream",
     "text": [
      "/glade/u/home/doughert/miniconda3/envs/pangeo3/lib/python3.9/site-packages/pandas/core/indexing.py:1637: SettingWithCopyWarning: \n",
      "A value is trying to be set on a copy of a slice from a DataFrame\n",
      "\n",
      "See the caveats in the documentation: https://pandas.pydata.org/pandas-docs/stable/user_guide/indexing.html#returning-a-view-versus-a-copy\n",
      "  self._setitem_single_block(indexer, value, name)\n"
     ]
    }
   ],
   "source": [
    "for i in range(len(tc_merge)):\n",
    "    if (tc_merge['region'].iloc[i]=='Pac_NW') or (tc_merge['region'].iloc[i]=='Pac_SW'):\n",
    "        if (tc_merge['fronts'].iloc[i]==1.0):\n",
    "            tc_merge['storm_type'].iloc[i]='front'\n",
    "        elif (tc_merge['fronts'].iloc[i]==0.0) and (tc_merge['etc'].iloc[i]==1.0):\n",
    "            tc_merge['storm_type'].iloc[i]='etc'  "
   ]
  },
  {
   "cell_type": "markdown",
   "id": "03bdead9-f439-4c73-a932-c01ca6a6085c",
   "metadata": {
    "tags": []
   },
   "source": [
    "### remove days with no storm type and front no rain"
   ]
  },
  {
   "cell_type": "code",
   "execution_count": 18,
   "id": "28865b3b-b463-4604-be1c-b4d5cc254a42",
   "metadata": {},
   "outputs": [],
   "source": [
    "storm_type_all = tc_merge[tc_merge['storm_type']!='none']\n",
    "storm_type_all2 = storm_type_all[storm_type_all['storm_type']!='front no rain']"
   ]
  },
  {
   "cell_type": "code",
   "execution_count": 19,
   "id": "4c2a4f2c-8aba-4d53-8f5d-dc7acaaaf730",
   "metadata": {},
   "outputs": [
    {
     "name": "stdout",
     "output_type": "stream",
     "text": [
      "65925\n",
      "65236\n"
     ]
    }
   ],
   "source": [
    "print(len(storm_type_all))\n",
    "print(len(storm_type_all2))"
   ]
  },
  {
   "cell_type": "code",
   "execution_count": 20,
   "id": "bdc20171-8f55-4723-b4f7-1474f828372a",
   "metadata": {},
   "outputs": [],
   "source": [
    "storm_type_pacnw = storm_type_all2[storm_type_all2['region']=='Pac_NW']\n",
    "storm_type_pacsw = storm_type_all2[storm_type_all2['region']=='Pac_SW']"
   ]
  },
  {
   "cell_type": "code",
   "execution_count": 21,
   "id": "a2c1bba0-32e3-462f-8094-ccb291284ec5",
   "metadata": {},
   "outputs": [],
   "source": [
    "front_pacnw = np.where(storm_type_pacnw['storm_type']=='front')[0]\n",
    "etc_pacnw = np.where(storm_type_pacnw['storm_type']=='etc')[0]\n",
    "\n",
    "front_pacsw = np.where(storm_type_pacsw['storm_type']=='front')[0]\n",
    "etc_pacsw = np.where(storm_type_pacsw['storm_type']=='etc')[0]"
   ]
  },
  {
   "cell_type": "code",
   "execution_count": 23,
   "id": "74ec359a-93e4-48ef-9383-0af8f635be69",
   "metadata": {},
   "outputs": [
    {
     "name": "stdout",
     "output_type": "stream",
     "text": [
      "       region        date  isolated  nonconv  mcs  fronts  etc   tc  \\\n",
      "0        East  1995-01-01       1.0      1.0  0.0     1.0  1.0  0.0   \n",
      "1      Pac_SW  1995-01-01       0.0      0.0  0.0     1.0  0.0  0.0   \n",
      "2      Pac_NW  1995-01-01       0.0      0.0  0.0     1.0  0.0  0.0   \n",
      "5      Desert  1995-01-01       0.0      1.0  0.0     1.0  0.0  0.0   \n",
      "6          GP  1995-01-01       0.0      1.0  0.0     1.0  0.0  0.0   \n",
      "...       ...         ...       ...      ...  ...     ...  ...  ...   \n",
      "75617    East  2017-12-31       0.0      1.0  0.0     1.0  0.0  0.0   \n",
      "75618  Pac_NW  2017-12-31       0.0      0.0  0.0     1.0  0.0  0.0   \n",
      "75619      GP  2017-12-31       0.0      1.0  0.0     1.0  0.0  0.0   \n",
      "75620  Desert  2017-12-31       0.0      1.0  0.0     1.0  1.0  0.0   \n",
      "75621   South  2017-12-31       1.0      1.0  0.0     1.0  0.0  0.0   \n",
      "\n",
      "               storm_type    avg_dbz        size  pmin  \n",
      "0        frontal isolated  41.199413   13.000000   0.0  \n",
      "1                   front   0.000000    0.000000   0.0  \n",
      "2                   front   0.000000    0.000000   0.0  \n",
      "5      frontal stratiform  23.401855  124.250000   0.0  \n",
      "6      frontal stratiform  23.182427   72.000000   0.0  \n",
      "...                   ...        ...         ...   ...  \n",
      "75617  frontal stratiform  20.343395  654.000000   0.0  \n",
      "75618               front   0.000000    0.000000   0.0  \n",
      "75619  frontal stratiform  20.293388  815.777778   0.0  \n",
      "75620  frontal stratiform  22.612467   68.000000   0.0  \n",
      "75621    frontal isolated  42.917598   36.000000   0.0  \n",
      "\n",
      "[65236 rows x 12 columns]\n"
     ]
    }
   ],
   "source": [
    "print(storm_type_all2)"
   ]
  },
  {
   "cell_type": "code",
   "execution_count": 52,
   "id": "27e9a74f-3c7a-4119-b228-31f7b63fc340",
   "metadata": {},
   "outputs": [],
   "source": [
    "#storm_type_all2.to_csv('storm_types_date_decision_tree_bukovsky_regions_new.csv')"
   ]
  },
  {
   "cell_type": "markdown",
   "id": "4f848483-9715-4130-a93c-f1532d101720",
   "metadata": {},
   "source": [
    "### classify storms based on synoptic condition (frontal, etc, or TC)"
   ]
  },
  {
   "cell_type": "code",
   "execution_count": 25,
   "id": "8c34e590-0250-496c-9397-f0a452e12596",
   "metadata": {},
   "outputs": [],
   "source": [
    "synoptic_type = []\n",
    "\n",
    "for i in range(len(storm_type_all2)):\n",
    "    if storm_type_all2['tc'].iloc[i]==1.0:\n",
    "        synoptic_type.append('tc')\n",
    "    elif (storm_type_all2['tc'].iloc[i]==0.0) and (storm_type_all2['fronts'].iloc[i]==1.0):\n",
    "        synoptic_type.append('frontal')\n",
    "    elif (storm_type_all2['tc'].iloc[i]==0.0) and (storm_type_all2['fronts'].iloc[i]==0.0) and (storm_type_all2['etc'].iloc[i]==1.0):\n",
    "        synoptic_type.append('etc')\n",
    "    elif (storm_type_all2['tc'].iloc[i]==0.0) and (storm_type_all2['fronts'].iloc[i]==0.0) and (storm_type_all2['etc'].iloc[i]==0.0):\n",
    "        synoptic_type.append('local')"
   ]
  },
  {
   "cell_type": "code",
   "execution_count": 27,
   "id": "d2e3a196-9a97-4fbb-bd7c-f5649f5da1d5",
   "metadata": {},
   "outputs": [
    {
     "name": "stderr",
     "output_type": "stream",
     "text": [
      "<ipython-input-27-6791e69a28a4>:1: SettingWithCopyWarning: \n",
      "A value is trying to be set on a copy of a slice from a DataFrame.\n",
      "Try using .loc[row_indexer,col_indexer] = value instead\n",
      "\n",
      "See the caveats in the documentation: https://pandas.pydata.org/pandas-docs/stable/user_guide/indexing.html#returning-a-view-versus-a-copy\n",
      "  storm_type_all2['synoptic_type'] = synoptic_type\n"
     ]
    }
   ],
   "source": [
    "storm_type_all2['synoptic_type'] = synoptic_type"
   ]
  },
  {
   "cell_type": "markdown",
   "id": "125f3c90-e5ba-4c55-ba42-1fae821d9bee",
   "metadata": {},
   "source": [
    "### classify storm types based on type of convection"
   ]
  },
  {
   "cell_type": "code",
   "execution_count": 32,
   "id": "2208a15d-fcdb-439f-a150-e18c385a5c31",
   "metadata": {},
   "outputs": [],
   "source": [
    "rain_type = []\n",
    "\n",
    "for i in range(len(storm_type_all2)):\n",
    "    if storm_type_all2['mcs'].iloc[i]==1.0:\n",
    "        rain_type.append('mcs')\n",
    "    elif (storm_type_all2['mcs'].iloc[i]==0.0) and (storm_type_all2['isolated'].iloc[i]==1.0):\n",
    "        rain_type.append('isolated')\n",
    "    elif (storm_type_all2['mcs'].iloc[i]==0.0) and (storm_type_all2['isolated'].iloc[i]==0.0) and (storm_type_all2['nonconv'].iloc[i]==1.0):\n",
    "        rain_type.append('nonconv')\n",
    "    elif (storm_type_all2['mcs'].iloc[i]==0.0) and (storm_type_all2['isolated'].iloc[i]==0.0) and (storm_type_all2['nonconv'].iloc[i]==0.0):\n",
    "        rain_type.append('none')"
   ]
  },
  {
   "cell_type": "code",
   "execution_count": 33,
   "id": "0fd6be0e-0212-4869-a0d0-b18812aec6b1",
   "metadata": {},
   "outputs": [
    {
     "name": "stderr",
     "output_type": "stream",
     "text": [
      "<ipython-input-33-cefe962778d5>:1: SettingWithCopyWarning: \n",
      "A value is trying to be set on a copy of a slice from a DataFrame.\n",
      "Try using .loc[row_indexer,col_indexer] = value instead\n",
      "\n",
      "See the caveats in the documentation: https://pandas.pydata.org/pandas-docs/stable/user_guide/indexing.html#returning-a-view-versus-a-copy\n",
      "  storm_type_all2['rain_type'] = rain_type\n"
     ]
    }
   ],
   "source": [
    "storm_type_all2['rain_type'] = rain_type"
   ]
  },
  {
   "cell_type": "code",
   "execution_count": 34,
   "id": "b6dce5de-6c64-4791-b26c-69733684c42c",
   "metadata": {},
   "outputs": [
    {
     "name": "stdout",
     "output_type": "stream",
     "text": [
      "   region        date  isolated  nonconv  mcs  fronts  etc   tc  \\\n",
      "0    East  1995-01-01       1.0      1.0  0.0     1.0  1.0  0.0   \n",
      "1  Pac_SW  1995-01-01       0.0      0.0  0.0     1.0  0.0  0.0   \n",
      "2  Pac_NW  1995-01-01       0.0      0.0  0.0     1.0  0.0  0.0   \n",
      "5  Desert  1995-01-01       0.0      1.0  0.0     1.0  0.0  0.0   \n",
      "6      GP  1995-01-01       0.0      1.0  0.0     1.0  0.0  0.0   \n",
      "\n",
      "           storm_type    avg_dbz    size  pmin synoptic_type rain_type  \n",
      "0    frontal isolated  41.199413   13.00   0.0       frontal  isolated  \n",
      "1               front   0.000000    0.00   0.0       frontal      none  \n",
      "2               front   0.000000    0.00   0.0       frontal      none  \n",
      "5  frontal stratiform  23.401855  124.25   0.0       frontal   nonconv  \n",
      "6  frontal stratiform  23.182427   72.00   0.0       frontal   nonconv  \n"
     ]
    }
   ],
   "source": [
    "print(storm_type_all2.iloc[0:5])"
   ]
  },
  {
   "cell_type": "code",
   "execution_count": 35,
   "id": "be2158b5-92a4-48b8-ab77-7a7fa7533ea1",
   "metadata": {},
   "outputs": [],
   "source": [
    "storm_type_all2.to_csv('storm_types_date_decision_tree_bukovsky_regions_simple.csv')"
   ]
  },
  {
   "cell_type": "code",
   "execution_count": 45,
   "id": "1b5df80b-db2d-48df-8661-7620838939c9",
   "metadata": {},
   "outputs": [
    {
     "data": {
      "text/plain": [
       "synoptic_type\n",
       "etc         3557\n",
       "frontal    55491\n",
       "local       5856\n",
       "tc           332\n",
       "Name: region, dtype: int64"
      ]
     },
     "execution_count": 45,
     "metadata": {},
     "output_type": "execute_result"
    }
   ],
   "source": [
    "storm_type_all2.groupby(['synoptic_type']).count().region"
   ]
  },
  {
   "cell_type": "code",
   "execution_count": 52,
   "id": "b99c82b1-4ce4-4c6e-aa92-9985056ba6c4",
   "metadata": {},
   "outputs": [
    {
     "data": {
      "image/png": "[encoded data removed]",
      "text/plain": [
       "<Figure size 432x288 with 1 Axes>"
      ]
     },
     "metadata": {
      "needs_background": "light"
     },
     "output_type": "display_data"
    }
   ],
   "source": [
    "import matplotlib.pyplot as plt\n",
    "storm_type_all2.groupby(['synoptic_type']).count().plot(kind='bar', y = 'region')\n",
    "plt.show()"
   ]
  },
  {
   "cell_type": "code",
   "execution_count": 53,
   "id": "934521ac-0f76-4251-a690-fde7e6eda709",
   "metadata": {},
   "outputs": [
    {
     "data": {
      "image/png": "[encoded data removed]",
      "text/plain": [
       "<Figure size 432x288 with 1 Axes>"
      ]
     },
     "metadata": {
      "needs_background": "light"
     },
     "output_type": "display_data"
    }
   ],
   "source": [
    "import matplotlib.pyplot as plt\n",
    "storm_type_all2.groupby(['rain_type']).count().plot(kind='bar', y = 'region')\n",
    "plt.show()"
   ]
  },
  {
   "cell_type": "markdown",
   "id": "59f48c67-35c4-4b5d-8f7b-5acc991c7ad8",
   "metadata": {},
   "source": [
    "### use below to double-check that algorithm works correctly"
   ]
  },
  {
   "cell_type": "code",
   "execution_count": 16,
   "id": "308f4089-234a-4da5-9660-4ea3d554b783",
   "metadata": {},
   "outputs": [],
   "source": [
    "front_mcs = np.where((tc_merge['fronts']==1.0) & (tc_merge['mcs']==1.0))\n",
    "front_isolated = np.where((tc_merge['fronts']==1.0) & (tc_merge['isolated']==1.0) & (tc_merge['mcs']==0.0))\n",
    "front_strat = np.where((tc_merge['fronts']==1.0) & (tc_merge['isolated']==0.0) & (tc_merge['mcs']==0.0) & (tc_merge['nonconv']==1.0))\n",
    "front_norain = np.where((tc_merge['fronts']==1.0) & (tc_merge['isolated']==0.0) & (tc_merge['nonconv']==0.0) & (tc_merge['mcs']==0.0))"
   ]
  },
  {
   "cell_type": "code",
   "execution_count": 17,
   "id": "1612b290-e0ea-4608-91be-822e51e98160",
   "metadata": {},
   "outputs": [],
   "source": [
    "mcs_nofront = np.where((tc_merge['fronts']==0.0) & (tc_merge['mcs']==1.0))\n",
    "isolated_nofront = np.where((tc_merge['fronts']==0.0) & (tc_merge['isolated']==1.0) & (tc_merge['mcs']==0.0))\n",
    "strat_nofront = np.where((tc_merge['fronts']==0.0) & (tc_merge['isolated']==0.0) & (tc_merge['mcs']==0.0) & (tc_merge['nonconv']==1.0))"
   ]
  },
  {
   "cell_type": "code",
   "execution_count": 20,
   "id": "89f1a067-6647-422f-b23b-6c089145768c",
   "metadata": {},
   "outputs": [
    {
     "name": "stdout",
     "output_type": "stream",
     "text": [
      "1265\n",
      "24315\n"
     ]
    }
   ],
   "source": [
    "print(len(mcs_nofront[0]))\n",
    "print(len(front_mcs[0]))"
   ]
  },
  {
   "cell_type": "code",
   "execution_count": 216,
   "id": "1b05f696-f9a7-4fce-95a2-efff10932603",
   "metadata": {},
   "outputs": [],
   "source": [
    "etc = np.where((tc_merge['etc']==1.0))\n",
    "fronts = np.where((tc_merge['fronts']==1.0))\n",
    "etc_front = np.where((tc_merge['fronts']==1.0) & (tc_merge['etc']==1.0))\n",
    "etc_nofront = np.where((tc_merge['fronts']==0.0) & (tc_merge['etc']==1.0))\n",
    "etc_nofront_noprecip = np.where((tc_merge['fronts']==0.0) & (tc_merge['etc']==1.0) & (tc_merge['isolated']==0.0) & (tc_merge['nonconv']==0.0) & (tc_merge['mcs']==0.0))"
   ]
  },
  {
   "cell_type": "code",
   "execution_count": 213,
   "id": "945ffa35-a414-4aec-becc-79394e736404",
   "metadata": {},
   "outputs": [],
   "source": [
    "etc_front_mcs = np.where((tc_merge['fronts']==1.0) & (tc_merge['etc']==1.0) & (tc_merge['mcs']==1.0))\n",
    "etc_nofront_mcs = np.where((tc_merge['fronts']==0.0) & (tc_merge['etc']==1.0) & (tc_merge['mcs']==1.0))\n",
    "etc_nofront_iso = np.where((tc_merge['fronts']==0.0) & (tc_merge['etc']==1.0) & (tc_merge['mcs']==00.0) & (tc_merge['isolated']==1.0))\n",
    "etc_nofront_strat = np.where((tc_merge['fronts']==0.0) & (tc_merge['etc']==1.0) & (tc_merge['mcs']==00.0) & (tc_merge['isolated']==0.0) & (tc_merge['nonconv']==1.0))"
   ]
  },
  {
   "cell_type": "code",
   "execution_count": 209,
   "id": "ec592de3-c2ef-4575-a961-8f81111ac728",
   "metadata": {},
   "outputs": [
    {
     "name": "stdout",
     "output_type": "stream",
     "text": [
      "56495\n",
      "22335\n"
     ]
    }
   ],
   "source": [
    "print(len(fronts[0]))\n",
    "print(len(etc_front[0]))"
   ]
  },
  {
   "cell_type": "code",
   "execution_count": 219,
   "id": "6b8b2241-4528-4732-bf54-2aaf01edc3cd",
   "metadata": {},
   "outputs": [
    {
     "name": "stdout",
     "output_type": "stream",
     "text": [
      "26008\n",
      "22335\n",
      "3673\n",
      "1090\n"
     ]
    }
   ],
   "source": [
    "print(len(etc[0]))\n",
    "print(len(etc_front[0]))\n",
    "print(len(etc_nofront[0]))\n",
    "print(len(etc_nofront_noprecip[0]))"
   ]
  },
  {
   "cell_type": "code",
   "execution_count": 215,
   "id": "96adea27-5360-48e1-9c2d-54f19eaf75e0",
   "metadata": {},
   "outputs": [
    {
     "name": "stdout",
     "output_type": "stream",
     "text": [
      "11063\n",
      "401\n",
      "1162\n",
      "1020\n"
     ]
    }
   ],
   "source": [
    "print(len(etc_front_mcs[0]))\n",
    "print(len(etc_nofront_mcs[0]))\n",
    "print(len(etc_nofront_iso[0]))\n",
    "print(len(etc_nofront_strat[0]))\n",
    "#print(etc_nofront_mcs[0])"
   ]
  },
  {
   "cell_type": "code",
   "execution_count": null,
   "id": "e19668dc-663c-4bca-9ad6-b0cf3e57e3ee",
   "metadata": {},
   "outputs": [],
   "source": []
  }
 ],
 "metadata": {
  "kernelspec": {
   "display_name": "Python [conda env:miniconda3-pangeo3]",
   "language": "python",
   "name": "conda-env-miniconda3-pangeo3-py"
  },
  "language_info": {
   "codemirror_mode": {
    "name": "ipython",
    "version": 3
   },
   "file_extension": ".py",
   "mimetype": "text/x-python",
   "name": "python",
   "nbconvert_exporter": "python",
   "pygments_lexer": "ipython3",
   "version": "3.9.2"
  }
 },
 "nbformat": 4,
 "nbformat_minor": 5
}
